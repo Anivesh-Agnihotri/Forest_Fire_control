{
 "cells": [
  {
   "cell_type": "code",
   "execution_count": 28,
   "metadata": {},
   "outputs": [],
   "source": [
    "import matplotlib.pyplot as plt\n",
    "import pandas as pd\n",
    "import seaborn as sns\n",
    "import numpy as np\n"
   ]
  },
  {
   "cell_type": "code",
   "execution_count": 29,
   "metadata": {},
   "outputs": [],
   "source": [
    "from sklearn.linear_model import LinearRegression,RidgeCV\n",
    "from sklearn.model_selection import train_test_split\n",
    "from sklearn import svm\n",
    "from sklearn import neighbors\n",
    "from sklearn import ensemble\n",
    "from sklearn import metrics\n",
    "from sklearn.tree import DecisionTreeRegressor\n",
    "from sklearn.model_selection import cross_val_predict\n"
   ]
  },
  {
   "cell_type": "code",
   "execution_count": 30,
   "metadata": {},
   "outputs": [],
   "source": [
    "df= pd.read_csv('forestfires.csv')"
   ]
  },
  {
   "cell_type": "code",
   "execution_count": 31,
   "metadata": {},
   "outputs": [],
   "source": [
    "def condition(row):\n",
    "    if row['area'] >=0 and row['area']<2 :\n",
    "        return 0\n",
    "    elif row['area'] >=2 and row['area']<10 :\n",
    "        return 1\n",
    "    else:\n",
    "        return 2"
   ]
  },
  {
   "cell_type": "code",
   "execution_count": 32,
   "metadata": {},
   "outputs": [],
   "source": [
    "#df['category'] =df.apply(condition, axis=1)\n",
    "#df.to_csv('new_forestfire.csv',index=False)\n"
   ]
  },
  {
   "cell_type": "code",
   "execution_count": 33,
   "metadata": {},
   "outputs": [],
   "source": [
    "ndf=pd.read_csv('new_forestfire.csv')\n"
   ]
  },
  {
   "cell_type": "code",
   "execution_count": 34,
   "metadata": {},
   "outputs": [],
   "source": [
    "def month_cat(month):\n",
    "    if month == 'oct' or month == 'sep' :\n",
    "        return 0\n",
    "    elif month =='nov' or month == 'may':\n",
    "        return 1\n",
    "    elif month == 'mar' or month == 'jun':\n",
    "        return 2\n",
    "    elif month == 'jul' or month == 'jan':\n",
    "        return 3\n",
    "    elif month == 'feb' or month == 'dec':\n",
    "        return 4\n",
    "    else : \n",
    "        return 5\n"
   ]
  },
  {
   "cell_type": "code",
   "execution_count": 35,
   "metadata": {},
   "outputs": [],
   "source": [
    "ndf['month_new'] = ndf['month'].apply(month_cat)"
   ]
  },
  {
   "cell_type": "code",
   "execution_count": 36,
   "metadata": {},
   "outputs": [],
   "source": [
    "x= ndf[['temp','RH','wind','rain','month_new']]\n",
    "y= ndf[['category']]"
   ]
  },
  {
   "cell_type": "code",
   "execution_count": 40,
   "metadata": {},
   "outputs": [],
   "source": [
    "def method(X, model,n):\n",
    "    X_train, X_test, Y_train, Y_test= train_test_split(x,y,random_state =101)\n",
    "    model.fit(X_train,Y_train)\n",
    "    score= model.score(X_test,Y_test)\n",
    "    y_pred =model.predict(X_test)\n",
    "    #plt.figure(n)\n",
    "    #plt.subplot(211)\n",
    "    #plt.plot(np.arange(len(y_pred)),Y_test,'ro-',label='true value')\n",
    "    #plt.plot(np.arange(len(y_pred)),y_pred,'bx-',label='predicted value')\n",
    "    title=['Linear Regression','Decision Tree','SVM Regression','KNeighborsRegressor','Random Forest Tree']\n",
    "    #plt.title(str(title[n-1]) + \" \" + \"Score: \" + score)\n",
    "    #plt.legend()\n",
    "    #plt.subplot(212)\n",
    "    #predicted = cross_val_predict(model, x, y, cv=10)\n",
    "    #plt.scatter(y, predicted)\n",
    "    #plt.plot([y.min(), y.max()], [y.min(), y.max()], 'k--', lw=4)\n",
    "    #plt.xlabel('True Value')\n",
    "    #plt.ylabel('Predicted Value')\n",
    "    print(str(title[n-1]))\n",
    "    print(score)\n",
    "    #print(str(title[n-1]) + \" \" + \"Score: \" + score)\n",
    "    #plt.show()\n",
    "    print (str(title[n-1])+' MSE: ',metrics.mean_squared_error(Y_test, y_pred))\n",
    "    print (str(title[n-1])+' RMSE: ',np.sqrt(metrics.mean_squared_error(Y_test, y_pred)))\n"
   ]
  },
  {
   "cell_type": "code",
   "execution_count": 41,
   "metadata": {},
   "outputs": [],
   "source": [
    "lin_reg=LinearRegression()\n",
    "tree_reg = DecisionTreeRegressor()\n",
    "svr=svm.SVR()\n",
    "knn = neighbors.KNeighborsRegressor()\n",
    "rf =ensemble.RandomForestRegressor(n_estimators=500)\n"
   ]
  },
  {
   "cell_type": "code",
   "execution_count": 42,
   "metadata": {},
   "outputs": [
    {
     "name": "stdout",
     "output_type": "stream",
     "text": [
      "Linear Regression\n",
      "-0.009320365770656869\n",
      "Linear Regression MSE:  0.6787530152061252\n",
      "Linear Regression RMSE:  0.8238646825821127\n",
      "Decision Tree\n",
      "-0.7783888155643544\n",
      "Decision Tree MSE:  1.195940170940171\n",
      "Decision Tree RMSE:  1.0935904950849613\n",
      "SVM Regression\n",
      "-0.42756875869654287\n",
      "SVM Regression MSE:  0.9600188723423794\n",
      "SVM Regression RMSE:  0.9798055278178315\n",
      "KNeighborsRegressor\n",
      "-0.1996832380114384\n",
      "KNeighborsRegressor MSE:  0.8067692307692307\n",
      "KNeighborsRegressor RMSE:  0.898203334868687\n"
     ]
    },
    {
     "name": "stderr",
     "output_type": "stream",
     "text": [
      "C:\\ProgramData\\Anaconda3\\lib\\site-packages\\sklearn\\utils\\validation.py:73: DataConversionWarning: A column-vector y was passed when a 1d array was expected. Please change the shape of y to (n_samples, ), for example using ravel().\n",
      "  return f(**kwargs)\n",
      "<ipython-input-40-d0ac5a75ed2a>:3: DataConversionWarning: A column-vector y was passed when a 1d array was expected. Please change the shape of y to (n_samples,), for example using ravel().\n",
      "  model.fit(X_train,Y_train)\n"
     ]
    },
    {
     "name": "stdout",
     "output_type": "stream",
     "text": [
      "Random Forest Tree\n",
      "-0.056963202693527615\n",
      "Random Forest Tree MSE:  0.7107921182610617\n",
      "Random Forest Tree RMSE:  0.8430848820024361\n"
     ]
    }
   ],
   "source": [
    "list=[lin_reg, tree_reg,svr,knn,rf]\n",
    "m=1\n",
    "for i in list:\n",
    "    method(x,i,m)\n",
    "    m+=1"
   ]
  },
  {
   "cell_type": "code",
   "execution_count": null,
   "metadata": {},
   "outputs": [],
   "source": []
  },
  {
   "cell_type": "code",
   "execution_count": null,
   "metadata": {},
   "outputs": [],
   "source": []
  }
 ],
 "metadata": {
  "kernelspec": {
   "display_name": "Python 3",
   "language": "python",
   "name": "python3"
  },
  "language_info": {
   "codemirror_mode": {
    "name": "ipython",
    "version": 3
   },
   "file_extension": ".py",
   "mimetype": "text/x-python",
   "name": "python",
   "nbconvert_exporter": "python",
   "pygments_lexer": "ipython3",
   "version": "3.8.3"
  }
 },
 "nbformat": 4,
 "nbformat_minor": 4
}
