{
 "cells": [
  {
   "cell_type": "code",
   "execution_count": 1,
   "metadata": {},
   "outputs": [],
   "source": [
    "import smtplib                              #simple mail transfer protocol - it will help in sending e-mails\n",
    "from email.message import EmailMessage\n",
    "import getpass\n",
    "import stdiomask\n",
    "import os\n",
    "import pandas as pd\n",
    "import numpy as np\n",
    "import matplotlib.pyplot as plt\n",
    "#import seaborn as sns\n",
    "from sklearn.model_selection import train_test_split\n",
    "from sklearn.svm import SVC\n",
    "from sklearn.metrics import accuracy_score"
   ]
  },
  {
   "cell_type": "code",
   "execution_count": 2,
   "metadata": {},
   "outputs": [],
   "source": [
    "host ='imap.gmail.com'\n",
    "sender_Email=\"your email\"\n",
    "sender_Email_pass=\"yourpassword\"\n",
    "stage= 0"
   ]
  },
  {
   "cell_type": "code",
   "execution_count": 3,
   "metadata": {},
   "outputs": [],
   "source": [
    "def send_email(receiver,subject,message): \n",
    "    #function to send emails\n",
    "    #print(receiver)\n",
    "    #print(subject)\n",
    "    #print(message)\n",
    "    server = smtplib.SMTP('smtp.gmail.com',587)\n",
    "    server.starttls()                                                   #make sure to give app acess in google account\n",
    "    server.login(sender_Email,sender_Email_pass)\n",
    "    email = EmailMessage()\n",
    "    #print(sender_Email,sender_Email_pass)\n",
    "    email['From'] = sender_Email\n",
    "    email['To'] = receiver\n",
    "    email['Subject'] = subject\n",
    "    email.set_content(message)\n",
    "    server.send_message(email)\n",
    "    print(\"Your Email is sent\")\n",
    "#this will send the email    \n"
   ]
  },
  {
   "cell_type": "code",
   "execution_count": 4,
   "metadata": {},
   "outputs": [],
   "source": [
    "def get_email_info(stage):                                                   #function to gather the information of email to be send\n",
    "    print(\"To Whom you want to send email\") \n",
    "    receiver =input(\"Enter the reciver email:\")        \n",
    "    subject = \"Forest Fire Pridiction\"                                \n",
    "    message = \"Probability of forest fire \"+ stage+ \"\\nwe think you will take poper mesasures\\n Thank you\"\n",
    "    #print(message)\n",
    "    send_email(receiver,subject,message)                              #call the send_email function\n",
    " \n"
   ]
  },
  {
   "cell_type": "code",
   "execution_count": 5,
   "metadata": {},
   "outputs": [],
   "source": [
    "df= pd.read_csv('forestfires.csv')"
   ]
  },
  {
   "cell_type": "code",
   "execution_count": 6,
   "metadata": {},
   "outputs": [],
   "source": [
    "def condition(row):\n",
    "    if row['area'] >=0 and row['area']<2 :\n",
    "        return 0\n",
    "    elif row['area'] >=2 and row['area']<10 :\n",
    "        return 1\n",
    "    else:\n",
    "        return 2\n",
    "    \n",
    "def month_cat(month):\n",
    "    if month == 'oct' or month == 'sep' :\n",
    "        return 0\n",
    "    elif month =='nov' or month == 'may':\n",
    "        return 1\n",
    "    elif month == 'mar' or month == 'jun':\n",
    "        return 2\n",
    "    elif month == 'jul' or month == 'jan':\n",
    "        return 3\n",
    "    elif month == 'feb' or month == 'dec':\n",
    "        return 4\n",
    "    else : \n",
    "        return 5    "
   ]
  },
  {
   "cell_type": "code",
   "execution_count": 7,
   "metadata": {},
   "outputs": [],
   "source": [
    "def area_cat(are):\n",
    "    if are == 0 :\n",
    "        return \"NO Damage\"\n",
    "    elif are == 1 :\n",
    "        return \"Damage\"\n",
    "    else:\n",
    "        return \"High Damage\""
   ]
  },
  {
   "cell_type": "code",
   "execution_count": 8,
   "metadata": {},
   "outputs": [],
   "source": [
    "df['category'] =df.apply(condition, axis=1)\n",
    "df['month_new'] = df['month'].apply(month_cat)"
   ]
  },
  {
   "cell_type": "code",
   "execution_count": 9,
   "metadata": {},
   "outputs": [],
   "source": [
    "x= df[['temp','RH','wind','rain','month_new']]\n",
    "y= df[['category']]"
   ]
  },
  {
   "cell_type": "code",
   "execution_count": 10,
   "metadata": {},
   "outputs": [
    {
     "name": "stderr",
     "output_type": "stream",
     "text": [
      "C:\\ProgramData\\Anaconda3\\lib\\site-packages\\sklearn\\utils\\validation.py:73: DataConversionWarning: A column-vector y was passed when a 1d array was expected. Please change the shape of y to (n_samples, ), for example using ravel().\n",
      "  return f(**kwargs)\n"
     ]
    },
    {
     "data": {
      "text/plain": [
       "SVC(kernel='linear')"
      ]
     },
     "execution_count": 10,
     "metadata": {},
     "output_type": "execute_result"
    }
   ],
   "source": [
    "#x_train,x_test,y_train,y_test= train_test_split(x,y,test_size=0.25,random_state=1)\n",
    "\n",
    "classifier=SVC(kernel=\"linear\")\n",
    "classifier.fit(x,y)"
   ]
  },
  {
   "cell_type": "code",
   "execution_count": 11,
   "metadata": {},
   "outputs": [],
   "source": [
    "def testing() :\n",
    "    print(\"Enter the detail:\")\n",
    "    lst =[0,0,0,0,0]\n",
    "    lst[0]=float(input(\"Temperature : \"))\n",
    "    lst[1]=float(input(\"RH: \"))\n",
    "    lst[2]=float(input(\"wind: \"))\n",
    "    lst[3]=float(input(\"rain: \"))\n",
    "    m=input(\"Month_name: \")\n",
    "    mn=month_cat(m)\n",
    "    lst[4]=int(mn)\n",
    "    \n",
    "    lst=[lst]\n",
    "    nlst=np.array(lst)\n",
    "\n",
    "    predictions = classifier.predict(nlst)\n",
    "    stage = area_cat(predictions)\n",
    "    print(\"The probability of Forest fire is \"+stage)\n",
    "    print(\"Do you want to send the report by email?\\n if yes type 'y' otherwise type 'n': \")\n",
    "    take=input()\n",
    "    if take == 'y':\n",
    "        print(\"Waring: make sure you have given access to less secure app in yoyr google account\")\n",
    "        #sender_Email = input(\"Enter the ur email:   \")\n",
    "        #sender_Email_pass =getpass.getpass(prompt=\"Password: \")\n",
    "        get_email_info(stage)\n"
   ]
  },
  {
   "cell_type": "code",
   "execution_count": null,
   "metadata": {},
   "outputs": [],
   "source": []
  },
  {
   "cell_type": "code",
   "execution_count": 12,
   "metadata": {},
   "outputs": [
    {
     "name": "stdout",
     "output_type": "stream",
     "text": [
      "                    *-*-*-*-*-*-*-*-*-*-*-*-*-*-*-*-*-*-*-*-*-*-*-*-*-*-*-*-*-*-\n",
      "                              \n",
      "Welcome to Machine learning Model to predict Forest fire \n",
      "\n",
      "                    *-*-*-*-*-*-*-*-*-*-*-*-*-*-*-*-*-*-*-*-*-*-*-*-*-*-*-*-*-*-\n",
      "\n",
      "\n",
      "\n",
      "Type - 'machine'- for using model\n",
      "Type- 'exit' -to exit\n",
      "Your choice: machine\n",
      "Enter the detail:\n",
      "Temperature : 50\n",
      "RH: 90\n",
      "wind: 78\n",
      "rain: 0\n",
      "Month_name: jul\n",
      "The probability of Forest fire is NO Damage\n",
      "Do you want to send the report by email?\n",
      " if yes type 'y' otherwise type 'n': \n",
      "y\n",
      "Waring: make sure you have given access to less secure app in yoyr google account\n",
      "To Whom you want to send email\n",
      "Enter the reciver email:aniveshagnihotri0321@gmail.com\n",
      "anivesh.try786@gmail.com try@1234567890\n",
      "Your Email is sent\n",
      "Type - 'machine'- for using model\n",
      "Type- 'exit' -to exit\n",
      "Your choice: exit\n",
      "Thanking for using me\n",
      "                    *-*-*-*-*-*-*-*-*-*-*-*-*-*-*-*-*-*-*-*-*-*-*-*-*-*-*-*-*-*-\n"
     ]
    }
   ],
   "source": [
    "os.system(\"cls\")  \n",
    "\n",
    "print(\"  \"*10+ \"*-\"*30)    \n",
    "print(\"  \"*15+\"\\nWelcome to Machine learning Model to predict Forest fire \\n\")\n",
    "print(\"  \"*10+\"*-\"*30) \n",
    "print(\"\\n\\n\")\n",
    "while True:\n",
    "    print(\"Type - 'machine'- for using model\\nType- 'exit' -to exit\")\n",
    "    ch=input(\"Your choice: \")\n",
    "    if ch==\"machine\":\n",
    "        testing()\n",
    "\n",
    "    elif ch ==\"exit\":\n",
    "        print(\"Thanking for using me\")\n",
    "        break\n",
    "\n",
    "    else:\n",
    "        print(\"Wrong input\")    \n",
    "\n",
    "print(\"  \"*10+\"*-\"*30)\n",
    "\n"
   ]
  },
  {
   "cell_type": "code",
   "execution_count": null,
   "metadata": {},
   "outputs": [],
   "source": []
  },
  {
   "cell_type": "code",
   "execution_count": null,
   "metadata": {},
   "outputs": [],
   "source": []
  }
 ],
 "metadata": {
  "kernelspec": {
   "display_name": "Python 3",
   "language": "python",
   "name": "python3"
  },
  "language_info": {
   "codemirror_mode": {
    "name": "ipython",
    "version": 3
   },
   "file_extension": ".py",
   "mimetype": "text/x-python",
   "name": "python",
   "nbconvert_exporter": "python",
   "pygments_lexer": "ipython3",
   "version": "3.8.3"
  }
 },
 "nbformat": 4,
 "nbformat_minor": 4
}
