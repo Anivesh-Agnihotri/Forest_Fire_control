{
 "cells": [
  {
   "cell_type": "code",
   "execution_count": 1,
   "metadata": {},
   "outputs": [],
   "source": [
    "import matplotlib.pyplot as plt\n",
    "import pandas as pd\n",
    "import seaborn as sns\n",
    "import numpy as np\n"
   ]
  },
  {
   "cell_type": "code",
   "execution_count": 2,
   "metadata": {},
   "outputs": [],
   "source": [
    "from sklearn.linear_model import LinearRegression,RidgeCV\n",
    "from sklearn.model_selection import train_test_split\n",
    "from sklearn import svm\n",
    "from sklearn import neighbors\n",
    "from sklearn import ensemble\n",
    "from sklearn import metrics\n",
    "from sklearn.tree import DecisionTreeRegressor\n",
    "from sklearn.model_selection import cross_val_predict\n"
   ]
  },
  {
   "cell_type": "code",
   "execution_count": 3,
   "metadata": {},
   "outputs": [],
   "source": [
    "df= pd.read_csv('forestfires.csv')"
   ]
  },
  {
   "cell_type": "code",
   "execution_count": 4,
   "metadata": {},
   "outputs": [],
   "source": [
    "def condition(row):\n",
    "    if row['area'] >=0 and row['area']<2 :\n",
    "        return 0\n",
    "    elif row['area'] >=2 and row['area']<10 :\n",
    "        return 1\n",
    "    else:\n",
    "        return 2"
   ]
  },
  {
   "cell_type": "code",
   "execution_count": 5,
   "metadata": {},
   "outputs": [],
   "source": [
    "#df['category'] =df.apply(condition, axis=1)\n",
    "#df.to_csv('new_forestfire.csv',index=False)\n"
   ]
  },
  {
   "cell_type": "code",
   "execution_count": 6,
   "metadata": {},
   "outputs": [],
   "source": [
    "ndf=pd.read_csv('new_forestfire.csv')"
   ]
  },
  {
   "cell_type": "code",
   "execution_count": 7,
   "metadata": {},
   "outputs": [],
   "source": [
    "x= ndf[['FFMC','DMC','DC','ISI','temp','RH','wind','rain']]\n",
    "y= ndf[['category']]"
   ]
  },
  {
   "cell_type": "code",
   "execution_count": 16,
   "metadata": {},
   "outputs": [],
   "source": [
    "def method(X, model,n):\n",
    "    X_train, X_test, Y_train, Y_test= train_test_split(x,y,random_state =42)\n",
    "    model.fit(X_train,Y_train)\n",
    "    score= model.score(X_test,Y_test)\n",
    "    y_pred =model.predict(X_test)\n",
    "    #plt.figure(n)\n",
    "    #plt.subplot(211)\n",
    "    #plt.plot(np.arange(len(y_pred)),Y_test,'ro-',label='true value')\n",
    "    #plt.plot(np.arange(len(y_pred)),y_pred,'bx-',label='predicted value')\n",
    "    title=['Linear Regression','Decision Tree','SVM Regression','KNeighborsRegressor','Random Forest Tree']\n",
    "    #plt.title(str(title[n-1]) + \" \" + \"Score: \" + score)\n",
    "    #plt.legend()\n",
    "    #plt.subplot(212)\n",
    "    #predicted = cross_val_predict(model, x, y, cv=10)\n",
    "    #plt.scatter(y, predicted)\n",
    "    #plt.plot([y.min(), y.max()], [y.min(), y.max()], 'k--', lw=4)\n",
    "    #plt.xlabel('True Value')\n",
    "    #plt.ylabel('Predicted Value')\n",
    "    print(str(title[n-1]))\n",
    "    print(score)\n",
    "    #print(str(title[n-1]) + \" \" + \"Score: \" + score)\n",
    "    #plt.show()\n",
    "    print (str(title[n-1])+' MSE: ',metrics.mean_squared_error(Y_test, y_pred))\n",
    "    print (str(title[n-1])+' RMSE: ',np.sqrt(metrics.mean_squared_error(Y_test, y_pred)))\n"
   ]
  },
  {
   "cell_type": "code",
   "execution_count": 17,
   "metadata": {},
   "outputs": [],
   "source": [
    "lin_reg=LinearRegression()\n",
    "tree_reg = DecisionTreeRegressor()\n",
    "svr=svm.SVR()\n",
    "knn = neighbors.KNeighborsRegressor()\n",
    "rf =ensemble.RandomForestRegressor(n_estimators=500)\n"
   ]
  },
  {
   "cell_type": "code",
   "execution_count": 19,
   "metadata": {},
   "outputs": [
    {
     "name": "stdout",
     "output_type": "stream",
     "text": [
      "Linear Regression\n",
      "-0.012606257602512327\n",
      "Linear Regression MSE:  0.6272766219432367\n",
      "Linear Regression RMSE:  0.792007968358423\n",
      "Decision Tree\n",
      "-0.9775050148056164\n",
      "Decision Tree MSE:  1.225\n",
      "Decision Tree RMSE:  1.1067971810589328\n",
      "SVM Regression\n",
      "-0.4406769348988575\n",
      "SVM Regression MSE:  0.8924524752340911\n",
      "SVM Regression RMSE:  0.94469702827631\n",
      "KNeighborsRegressor\n",
      "-0.1811634349030471\n",
      "KNeighborsRegressor MSE:  0.7316923076923078\n",
      "KNeighborsRegressor RMSE:  0.855390149401025\n"
     ]
    },
    {
     "name": "stderr",
     "output_type": "stream",
     "text": [
      "C:\\ProgramData\\Anaconda3\\lib\\site-packages\\sklearn\\utils\\validation.py:73: DataConversionWarning: A column-vector y was passed when a 1d array was expected. Please change the shape of y to (n_samples, ), for example using ravel().\n",
      "  return f(**kwargs)\n",
      "<ipython-input-16-3f282bf1ccbe>:3: DataConversionWarning: A column-vector y was passed when a 1d array was expected. Please change the shape of y to (n_samples,), for example using ravel().\n",
      "  model.fit(X_train,Y_train)\n"
     ]
    },
    {
     "name": "stdout",
     "output_type": "stream",
     "text": [
      "Random Forest Tree\n",
      "-0.11335543732609432\n",
      "Random Forest Tree MSE:  0.6896874599625374\n",
      "Random Forest Tree RMSE:  0.8304742379884745\n"
     ]
    }
   ],
   "source": [
    "list=[lin_reg, tree_reg,svr,knn,rf]\n",
    "m=1\n",
    "for i in list:\n",
    "    method(x,i,m)\n",
    "    m+=1"
   ]
  },
  {
   "cell_type": "code",
   "execution_count": null,
   "metadata": {},
   "outputs": [],
   "source": []
  },
  {
   "cell_type": "code",
   "execution_count": null,
   "metadata": {},
   "outputs": [],
   "source": []
  }
 ],
 "metadata": {
  "kernelspec": {
   "display_name": "Python 3",
   "language": "python",
   "name": "python3"
  },
  "language_info": {
   "codemirror_mode": {
    "name": "ipython",
    "version": 3
   },
   "file_extension": ".py",
   "mimetype": "text/x-python",
   "name": "python",
   "nbconvert_exporter": "python",
   "pygments_lexer": "ipython3",
   "version": "3.8.3"
  }
 },
 "nbformat": 4,
 "nbformat_minor": 4
}
