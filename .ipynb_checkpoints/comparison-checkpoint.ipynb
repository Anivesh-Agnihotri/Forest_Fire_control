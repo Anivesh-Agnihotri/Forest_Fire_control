{
 "cells": [
  {
   "cell_type": "code",
   "execution_count": 5,
   "metadata": {},
   "outputs": [],
   "source": [
    "import matplotlib.pyplot as plt\n",
    "import pandas as pd\n",
    "import seaborn as sns\n",
    "import numpy as np\n"
   ]
  },
  {
   "cell_type": "code",
   "execution_count": 6,
   "metadata": {},
   "outputs": [],
   "source": [
    "from sklearn.linear_model import LinearRegression\n",
    "from sklearn.model_selection import train_test_split\n",
    "from sklearn.svm import SVC\n",
    "from sklearn import neighbors\n",
    "from sklearn.metrics import accuracy_score\n",
    "from sklearn.tree import DecisionTreeClassifier\n",
    "from sklearn.ensemble import RandomForestClassifier\n",
    "from sklearn.cluster import KMeans\n",
    "from sklearn.naive_bayes import GaussianNB\n",
    "from sklearn import model_selection\n",
    "from sklearn.neighbors import KNeighborsClassifier\n",
    "from sklearn.ensemble import BaggingClassifier"
   ]
  },
  {
   "cell_type": "code",
   "execution_count": 7,
   "metadata": {},
   "outputs": [],
   "source": [
    "df= pd.read_csv('forestfires.csv')"
   ]
  },
  {
   "cell_type": "code",
   "execution_count": 8,
   "metadata": {},
   "outputs": [],
   "source": [
    "def condition(row):\n",
    "    if row['area'] >=0 and row['area']<2 :\n",
    "        return 0\n",
    "    elif row['area'] >=2 and row['area']<10 :\n",
    "        return 1\n",
    "    else:\n",
    "        return 2"
   ]
  },
  {
   "cell_type": "code",
   "execution_count": 9,
   "metadata": {},
   "outputs": [],
   "source": [
    "df['category'] =df.apply(condition, axis=1)\n",
    "#df.to_csv('new_forestfire.csv',index=False)\n"
   ]
  },
  {
   "cell_type": "code",
   "execution_count": 10,
   "metadata": {},
   "outputs": [],
   "source": [
    "#ndf=pd.read_csv('new_forestfire.csv')\n"
   ]
  },
  {
   "cell_type": "code",
   "execution_count": 11,
   "metadata": {},
   "outputs": [],
   "source": [
    "def month_cat(month):\n",
    "    if month == 'oct' or month == 'sep' :\n",
    "        return 0\n",
    "    elif month =='nov' or month == 'may':\n",
    "        return 1\n",
    "    elif month == 'mar' or month == 'jun':\n",
    "        return 2\n",
    "    elif month == 'jul' or month == 'jan':\n",
    "        return 3\n",
    "    elif month == 'feb' or month == 'dec':\n",
    "        return 4\n",
    "    else : \n",
    "        return 5\n"
   ]
  },
  {
   "cell_type": "code",
   "execution_count": 12,
   "metadata": {},
   "outputs": [],
   "source": [
    "df['month_new'] = df['month'].apply(month_cat)"
   ]
  },
  {
   "cell_type": "code",
   "execution_count": 13,
   "metadata": {},
   "outputs": [],
   "source": [
    "x= df[['temp','RH','wind','rain','month_new']]\n",
    "y= df[['category']]"
   ]
  },
  {
   "cell_type": "code",
   "execution_count": 14,
   "metadata": {},
   "outputs": [],
   "source": [
    "x_train,x_test,y_train,y_test= train_test_split(x,y,test_size=0.25,random_state=13)\n"
   ]
  },
  {
   "cell_type": "code",
   "execution_count": null,
   "metadata": {},
   "outputs": [],
   "source": []
  },
  {
   "cell_type": "code",
   "execution_count": 15,
   "metadata": {},
   "outputs": [],
   "source": [
    "seed=7"
   ]
  },
  {
   "cell_type": "code",
   "execution_count": 16,
   "metadata": {},
   "outputs": [],
   "source": [
    "scoring = 'accuracy'\n"
   ]
  },
  {
   "cell_type": "code",
   "execution_count": 17,
   "metadata": {},
   "outputs": [],
   "source": [
    "def svm():\n",
    "    classifier=SVC(kernel=\"linear\")\n",
    "    classifier.fit(x_train,y_train)\n",
    "    y_pred= classifier.predict(x_test)\n",
    "    #kfold = model_selection.KFold(n_splits=10, random_state=seed)\n",
    "    #y_pred = model_selection.cross_val_score(classifier, x_train, y_train, cv=kfold, scoring=scoring)\n",
    "    score=accuracy_score(y_test,y_pred)\n",
    "    print(\"\\nSupport Vector Machine\\nAccuracy Score: \",+score)\n",
    "    #plt.scatter(y_test,y_pred)\n",
    "    #plt.xlabel('True Values ')\n",
    "    #plt.ylabel('Predictions ')\n",
    "    #plt.show()\n",
    "    return score    "
   ]
  },
  {
   "cell_type": "code",
   "execution_count": 18,
   "metadata": {},
   "outputs": [],
   "source": [
    "def random():\n",
    "    model = RandomForestClassifier(n_estimators=50)\n",
    "    model1= BaggingClassifier(base_estimator=model, n_estimators=70, random_state=41)\n",
    "    results_model = model1.fit(x_train,y_train)\n",
    "    y_pred1= results_model.predict(x_test)\n",
    "    score=accuracy_score(y_test,y_pred1)\n",
    "    print(\"\\nRandom Forest\\nAccuracy Score: \",+score)\n",
    "    \n",
    "    return score    "
   ]
  },
  {
   "cell_type": "code",
   "execution_count": 19,
   "metadata": {},
   "outputs": [],
   "source": [
    "def kmean():\n",
    "    km = KMeans(n_clusters=3)\n",
    "    km.fit(x_train,y_train)\n",
    "    y_pred= km.predict(x_test)\n",
    "    #kfold = model_selection.KFold(n_splits=10, random_state=seed)\n",
    "    #y_pred = model_selection.cross_val_score(km, x_train, y_train, cv=kfold, scoring=scoring)\n",
    "    score=accuracy_score(y_test,y_pred)\n",
    "    print(\"\\nK_Means\\nAccuracy Score: \",+score)\n",
    "    \n",
    "    return score    "
   ]
  },
  {
   "cell_type": "code",
   "execution_count": 20,
   "metadata": {},
   "outputs": [],
   "source": [
    "def knn():\n",
    "    model= KNeighborsClassifier()\n",
    "    model.fit(x_train,y_train)\n",
    "    y_pred= model.predict(x_test)\n",
    "    score=accuracy_score(y_test,y_pred)\n",
    "    print(\"\\nKNeighbour\\nAccuracy Score: \",+score)\n",
    "    \n",
    "    return score    "
   ]
  },
  {
   "cell_type": "code",
   "execution_count": 21,
   "metadata": {},
   "outputs": [],
   "source": [
    "models=[kmean,random,svm,knn]"
   ]
  },
  {
   "cell_type": "code",
   "execution_count": 22,
   "metadata": {},
   "outputs": [],
   "source": [
    "names=['kmean','random','svm','knn']\n",
    "\n"
   ]
  },
  {
   "cell_type": "code",
   "execution_count": 23,
   "metadata": {},
   "outputs": [
    {
     "name": "stdout",
     "output_type": "stream",
     "text": [
      "\n",
      "\n",
      "\n",
      "K_Means\n",
      "Accuracy Score:  0.3\n",
      "\n",
      "\n",
      "\n",
      "\n"
     ]
    },
    {
     "name": "stderr",
     "output_type": "stream",
     "text": [
      "C:\\ProgramData\\Anaconda3\\lib\\site-packages\\sklearn\\utils\\validation.py:73: DataConversionWarning: A column-vector y was passed when a 1d array was expected. Please change the shape of y to (n_samples, ), for example using ravel().\n",
      "  return f(**kwargs)\n"
     ]
    },
    {
     "name": "stdout",
     "output_type": "stream",
     "text": [
      "\n",
      "Random Forest\n",
      "Accuracy Score:  0.5230769230769231\n",
      "\n",
      "\n",
      "\n",
      "\n"
     ]
    },
    {
     "name": "stderr",
     "output_type": "stream",
     "text": [
      "C:\\ProgramData\\Anaconda3\\lib\\site-packages\\sklearn\\utils\\validation.py:73: DataConversionWarning: A column-vector y was passed when a 1d array was expected. Please change the shape of y to (n_samples, ), for example using ravel().\n",
      "  return f(**kwargs)\n"
     ]
    },
    {
     "name": "stdout",
     "output_type": "stream",
     "text": [
      "\n",
      "Support Vector Machine\n",
      "Accuracy Score:  0.5923076923076923\n",
      "\n",
      "\n",
      "\n",
      "\n",
      "\n",
      "KNeighbour\n",
      "Accuracy Score:  0.5230769230769231\n",
      "\n",
      "\n"
     ]
    },
    {
     "name": "stderr",
     "output_type": "stream",
     "text": [
      "<ipython-input-20-face8793628e>:3: DataConversionWarning: A column-vector y was passed when a 1d array was expected. Please change the shape of y to (n_samples, ), for example using ravel().\n",
      "  model.fit(x_train,y_train)\n"
     ]
    }
   ],
   "source": [
    "name=[]\n",
    "results=[]\n",
    "m=0\n",
    "for model in models:\n",
    "    print(\"\\n\")\n",
    "    r=models[m]()\n",
    "    results.append(r)\n",
    "    name.append(m)\n",
    "    \n",
    "    print('\\n')\n",
    "    \n",
    "    m=m+1\n",
    "    \n",
    "   \n",
    "    \n",
    "    "
   ]
  },
  {
   "cell_type": "code",
   "execution_count": 4,
   "metadata": {},
   "outputs": [],
   "source": [
    "#results\n",
    "#names\n",
    "#plt.bar(results, names, color ='maroon',\n",
    "       # width = 0.4)"
   ]
  },
  {
   "cell_type": "code",
   "execution_count": 1,
   "metadata": {},
   "outputs": [],
   "source": [
    "#fig = plt.figure()\n",
    "#fig.suptitle('Algorithm Comparison')\n",
    "#ax = fig.add_subplot(111)\n",
    "#plt.boxplot(results)\n",
    "#ax.set_xticklabels(names)\n",
    "#plt.show()"
   ]
  },
  {
   "cell_type": "code",
   "execution_count": 2,
   "metadata": {},
   "outputs": [],
   "source": [
    "#y=svm()"
   ]
  },
  {
   "cell_type": "code",
   "execution_count": null,
   "metadata": {},
   "outputs": [],
   "source": []
  }
 ],
 "metadata": {
  "kernelspec": {
   "display_name": "Python 3",
   "language": "python",
   "name": "python3"
  },
  "language_info": {
   "codemirror_mode": {
    "name": "ipython",
    "version": 3
   },
   "file_extension": ".py",
   "mimetype": "text/x-python",
   "name": "python",
   "nbconvert_exporter": "python",
   "pygments_lexer": "ipython3",
   "version": "3.8.3"
  }
 },
 "nbformat": 4,
 "nbformat_minor": 4
}
